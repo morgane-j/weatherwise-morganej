{
  "cells": [
    {
      "cell_type": "markdown",
      "metadata": {
        "id": "view-in-github",
        "colab_type": "text"
      },
      "source": [
        "<a href=\"https://colab.research.google.com/github/morgane-j/weatherwise-morganej/blob/main/weatherwise1.ipynb\" target=\"_parent\"><img src=\"https://colab.research.google.com/assets/colab-badge.svg\" alt=\"Open In Colab\"/></a>"
      ]
    },
    {
      "cell_type": "markdown",
      "id": "72e78a05",
      "metadata": {
        "id": "72e78a05"
      },
      "source": [
        "# 🌦️ WeatherWise – Starter Notebook\n",
        "\n",
        "Welcome to your **WeatherWise** project notebook! This scaffold is designed to help you build your weather advisor app using Python, visualisations, and AI-enhanced development.\n",
        "\n",
        "---\n",
        "\n",
        "📄 **Full Assignment Specification**  \n",
        "See [`ASSIGNMENT.md`](ASSIGNMENT.md) or check the LMS for full details.\n",
        "\n",
        "📝 **Quick Refresher**  \n",
        "A one-page summary is available in [`resources/assignment-summary.md`](resources/assignment-summary.md).\n",
        "\n",
        "---\n",
        "\n",
        "🧠 **This Notebook Structure is Optional**  \n",
        "You’re encouraged to reorganise, rename sections, or remove scaffold cells if you prefer — as long as your final version meets the requirements.\n",
        "\n",
        "✅ You may delete this note before submission.\n",
        "\n"
      ]
    },
    {
      "cell_type": "markdown",
      "id": "fa8c7f6c",
      "metadata": {
        "id": "fa8c7f6c"
      },
      "source": [
        "## 🧰 Setup and Imports\n",
        "\n",
        "This section imports commonly used packages and installs any additional tools used in the project.\n",
        "\n",
        "- You may not need all of these unless you're using specific features (e.g. visualisations, advanced prompting).\n",
        "- The notebook assumes the following packages are **pre-installed** in the provided environment or installable via pip:\n",
        "  - `requests`, `matplotlib`, `pyinputplus`\n",
        "  - `fetch-my-weather` (for accessing weather data easily)\n",
        "  - `hands-on-ai` (for AI logging, comparisons, or prompting tools)\n",
        "\n",
        "If you're running this notebook in **Google Colab**, uncomment the following lines to install the required packages.\n"
      ]
    },
    {
      "cell_type": "code",
      "execution_count": null,
      "id": "70c3f3f1",
      "metadata": {
        "id": "70c3f3f1",
        "colab": {
          "base_uri": "https://localhost:8080/"
        },
        "outputId": "7dd80676-73d7-4f85-d3d6-b01f0a9f17fc"
      },
      "outputs": [
        {
          "output_type": "stream",
          "name": "stdout",
          "text": [
            "Collecting fetch-my-weather\n",
            "  Downloading fetch_my_weather-0.4.0-py3-none-any.whl.metadata (12 kB)\n",
            "Requirement already satisfied: requests>=2.25.0 in /usr/local/lib/python3.11/dist-packages (from fetch-my-weather) (2.32.3)\n",
            "Requirement already satisfied: pydantic>=1.8.0 in /usr/local/lib/python3.11/dist-packages (from fetch-my-weather) (2.11.4)\n",
            "Requirement already satisfied: annotated-types>=0.6.0 in /usr/local/lib/python3.11/dist-packages (from pydantic>=1.8.0->fetch-my-weather) (0.7.0)\n",
            "Requirement already satisfied: pydantic-core==2.33.2 in /usr/local/lib/python3.11/dist-packages (from pydantic>=1.8.0->fetch-my-weather) (2.33.2)\n",
            "Requirement already satisfied: typing-extensions>=4.12.2 in /usr/local/lib/python3.11/dist-packages (from pydantic>=1.8.0->fetch-my-weather) (4.13.2)\n",
            "Requirement already satisfied: typing-inspection>=0.4.0 in /usr/local/lib/python3.11/dist-packages (from pydantic>=1.8.0->fetch-my-weather) (0.4.0)\n",
            "Requirement already satisfied: charset-normalizer<4,>=2 in /usr/local/lib/python3.11/dist-packages (from requests>=2.25.0->fetch-my-weather) (3.4.2)\n",
            "Requirement already satisfied: idna<4,>=2.5 in /usr/local/lib/python3.11/dist-packages (from requests>=2.25.0->fetch-my-weather) (3.10)\n",
            "Requirement already satisfied: urllib3<3,>=1.21.1 in /usr/local/lib/python3.11/dist-packages (from requests>=2.25.0->fetch-my-weather) (2.4.0)\n",
            "Requirement already satisfied: certifi>=2017.4.17 in /usr/local/lib/python3.11/dist-packages (from requests>=2.25.0->fetch-my-weather) (2025.4.26)\n",
            "Downloading fetch_my_weather-0.4.0-py3-none-any.whl (17 kB)\n",
            "Installing collected packages: fetch-my-weather\n",
            "Successfully installed fetch-my-weather-0.4.0\n",
            "Collecting hands-on-ai\n",
            "  Downloading hands_on_ai-0.1.9-py3-none-any.whl.metadata (4.7 kB)\n",
            "Requirement already satisfied: requests in /usr/local/lib/python3.11/dist-packages (from hands-on-ai) (2.32.3)\n",
            "Requirement already satisfied: typer in /usr/local/lib/python3.11/dist-packages (from hands-on-ai) (0.15.3)\n",
            "Collecting python-fasthtml (from hands-on-ai)\n",
            "  Downloading python_fasthtml-0.12.16-py3-none-any.whl.metadata (9.3 kB)\n",
            "Collecting python-docx (from hands-on-ai)\n",
            "  Downloading python_docx-1.1.2-py3-none-any.whl.metadata (2.0 kB)\n",
            "Collecting pymupdf (from hands-on-ai)\n",
            "  Downloading pymupdf-1.25.5-cp39-abi3-manylinux2014_x86_64.manylinux_2_17_x86_64.whl.metadata (3.4 kB)\n",
            "Requirement already satisfied: scikit-learn in /usr/local/lib/python3.11/dist-packages (from hands-on-ai) (1.6.1)\n",
            "Requirement already satisfied: numpy in /usr/local/lib/python3.11/dist-packages (from hands-on-ai) (2.0.2)\n",
            "Requirement already satisfied: lxml>=3.1.0 in /usr/local/lib/python3.11/dist-packages (from python-docx->hands-on-ai) (5.4.0)\n",
            "Requirement already satisfied: typing-extensions>=4.9.0 in /usr/local/lib/python3.11/dist-packages (from python-docx->hands-on-ai) (4.13.2)\n",
            "Collecting fastcore>=1.8.1 (from python-fasthtml->hands-on-ai)\n",
            "  Downloading fastcore-1.8.2-py3-none-any.whl.metadata (3.7 kB)\n",
            "Requirement already satisfied: python-dateutil in /usr/local/lib/python3.11/dist-packages (from python-fasthtml->hands-on-ai) (2.9.0.post0)\n",
            "Collecting starlette>0.33 (from python-fasthtml->hands-on-ai)\n",
            "  Downloading starlette-0.46.2-py3-none-any.whl.metadata (6.2 kB)\n",
            "Requirement already satisfied: oauthlib in /usr/local/lib/python3.11/dist-packages (from python-fasthtml->hands-on-ai) (3.2.2)\n",
            "Requirement already satisfied: itsdangerous in /usr/local/lib/python3.11/dist-packages (from python-fasthtml->hands-on-ai) (2.2.0)\n",
            "Collecting uvicorn>=0.30 (from uvicorn[standard]>=0.30->python-fasthtml->hands-on-ai)\n",
            "  Downloading uvicorn-0.34.2-py3-none-any.whl.metadata (6.5 kB)\n",
            "Requirement already satisfied: httpx in /usr/local/lib/python3.11/dist-packages (from python-fasthtml->hands-on-ai) (0.28.1)\n",
            "Collecting fastlite>=0.1.1 (from python-fasthtml->hands-on-ai)\n",
            "  Downloading fastlite-0.1.3-py3-none-any.whl.metadata (11 kB)\n",
            "Collecting python-multipart (from python-fasthtml->hands-on-ai)\n",
            "  Downloading python_multipart-0.0.20-py3-none-any.whl.metadata (1.8 kB)\n",
            "Requirement already satisfied: beautifulsoup4 in /usr/local/lib/python3.11/dist-packages (from python-fasthtml->hands-on-ai) (4.13.4)\n",
            "Requirement already satisfied: charset-normalizer<4,>=2 in /usr/local/lib/python3.11/dist-packages (from requests->hands-on-ai) (3.4.2)\n",
            "Requirement already satisfied: idna<4,>=2.5 in /usr/local/lib/python3.11/dist-packages (from requests->hands-on-ai) (3.10)\n",
            "Requirement already satisfied: urllib3<3,>=1.21.1 in /usr/local/lib/python3.11/dist-packages (from requests->hands-on-ai) (2.4.0)\n",
            "Requirement already satisfied: certifi>=2017.4.17 in /usr/local/lib/python3.11/dist-packages (from requests->hands-on-ai) (2025.4.26)\n",
            "Requirement already satisfied: scipy>=1.6.0 in /usr/local/lib/python3.11/dist-packages (from scikit-learn->hands-on-ai) (1.15.3)\n",
            "Requirement already satisfied: joblib>=1.2.0 in /usr/local/lib/python3.11/dist-packages (from scikit-learn->hands-on-ai) (1.5.0)\n",
            "Requirement already satisfied: threadpoolctl>=3.1.0 in /usr/local/lib/python3.11/dist-packages (from scikit-learn->hands-on-ai) (3.6.0)\n",
            "Requirement already satisfied: click>=8.0.0 in /usr/local/lib/python3.11/dist-packages (from typer->hands-on-ai) (8.1.8)\n",
            "Requirement already satisfied: shellingham>=1.3.0 in /usr/local/lib/python3.11/dist-packages (from typer->hands-on-ai) (1.5.4)\n",
            "Requirement already satisfied: rich>=10.11.0 in /usr/local/lib/python3.11/dist-packages (from typer->hands-on-ai) (13.9.4)\n",
            "Requirement already satisfied: packaging in /usr/local/lib/python3.11/dist-packages (from fastcore>=1.8.1->python-fasthtml->hands-on-ai) (24.2)\n",
            "Collecting apswutils>=0.0.2 (from fastlite>=0.1.1->python-fasthtml->hands-on-ai)\n",
            "  Downloading apswutils-0.0.2-py3-none-any.whl.metadata (7.1 kB)\n",
            "Requirement already satisfied: markdown-it-py>=2.2.0 in /usr/local/lib/python3.11/dist-packages (from rich>=10.11.0->typer->hands-on-ai) (3.0.0)\n",
            "Requirement already satisfied: pygments<3.0.0,>=2.13.0 in /usr/local/lib/python3.11/dist-packages (from rich>=10.11.0->typer->hands-on-ai) (2.19.1)\n",
            "Requirement already satisfied: anyio<5,>=3.6.2 in /usr/local/lib/python3.11/dist-packages (from starlette>0.33->python-fasthtml->hands-on-ai) (4.9.0)\n",
            "Requirement already satisfied: h11>=0.8 in /usr/local/lib/python3.11/dist-packages (from uvicorn>=0.30->uvicorn[standard]>=0.30->python-fasthtml->hands-on-ai) (0.16.0)\n",
            "Collecting httptools>=0.6.3 (from uvicorn[standard]>=0.30->python-fasthtml->hands-on-ai)\n",
            "  Downloading httptools-0.6.4-cp311-cp311-manylinux_2_5_x86_64.manylinux1_x86_64.manylinux_2_17_x86_64.manylinux2014_x86_64.whl.metadata (3.6 kB)\n",
            "Collecting python-dotenv>=0.13 (from uvicorn[standard]>=0.30->python-fasthtml->hands-on-ai)\n",
            "  Downloading python_dotenv-1.1.0-py3-none-any.whl.metadata (24 kB)\n",
            "Requirement already satisfied: pyyaml>=5.1 in /usr/local/lib/python3.11/dist-packages (from uvicorn[standard]>=0.30->python-fasthtml->hands-on-ai) (6.0.2)\n",
            "Collecting uvloop!=0.15.0,!=0.15.1,>=0.14.0 (from uvicorn[standard]>=0.30->python-fasthtml->hands-on-ai)\n",
            "  Downloading uvloop-0.21.0-cp311-cp311-manylinux_2_17_x86_64.manylinux2014_x86_64.whl.metadata (4.9 kB)\n",
            "Collecting watchfiles>=0.13 (from uvicorn[standard]>=0.30->python-fasthtml->hands-on-ai)\n",
            "  Downloading watchfiles-1.0.5-cp311-cp311-manylinux_2_17_x86_64.manylinux2014_x86_64.whl.metadata (4.9 kB)\n",
            "Requirement already satisfied: websockets>=10.4 in /usr/local/lib/python3.11/dist-packages (from uvicorn[standard]>=0.30->python-fasthtml->hands-on-ai) (15.0.1)\n",
            "Requirement already satisfied: soupsieve>1.2 in /usr/local/lib/python3.11/dist-packages (from beautifulsoup4->python-fasthtml->hands-on-ai) (2.7)\n",
            "Requirement already satisfied: httpcore==1.* in /usr/local/lib/python3.11/dist-packages (from httpx->python-fasthtml->hands-on-ai) (1.0.9)\n",
            "Requirement already satisfied: six>=1.5 in /usr/local/lib/python3.11/dist-packages (from python-dateutil->python-fasthtml->hands-on-ai) (1.17.0)\n",
            "Requirement already satisfied: sniffio>=1.1 in /usr/local/lib/python3.11/dist-packages (from anyio<5,>=3.6.2->starlette>0.33->python-fasthtml->hands-on-ai) (1.3.1)\n",
            "Collecting apsw (from apswutils>=0.0.2->fastlite>=0.1.1->python-fasthtml->hands-on-ai)\n",
            "  Downloading apsw-3.49.2.0-cp311-cp311-manylinux_2_17_x86_64.manylinux2014_x86_64.whl.metadata (3.7 kB)\n",
            "Requirement already satisfied: mdurl~=0.1 in /usr/local/lib/python3.11/dist-packages (from markdown-it-py>=2.2.0->rich>=10.11.0->typer->hands-on-ai) (0.1.2)\n",
            "Downloading hands_on_ai-0.1.9-py3-none-any.whl (132 kB)\n",
            "\u001b[2K   \u001b[90m━━━━━━━━━━━━━━━━━━━━━━━━━━━━━━━━━━━━━━━━\u001b[0m \u001b[32m132.3/132.3 kB\u001b[0m \u001b[31m4.6 MB/s\u001b[0m eta \u001b[36m0:00:00\u001b[0m\n",
            "\u001b[?25hDownloading pymupdf-1.25.5-cp39-abi3-manylinux2014_x86_64.manylinux_2_17_x86_64.whl (20.0 MB)\n",
            "\u001b[2K   \u001b[90m━━━━━━━━━━━━━━━━━━━━━━━━━━━━━━━━━━━━━━━━\u001b[0m \u001b[32m20.0/20.0 MB\u001b[0m \u001b[31m57.3 MB/s\u001b[0m eta \u001b[36m0:00:00\u001b[0m\n",
            "\u001b[?25hDownloading python_docx-1.1.2-py3-none-any.whl (244 kB)\n",
            "\u001b[2K   \u001b[90m━━━━━━━━━━━━━━━━━━━━━━━━━━━━━━━━━━━━━━━━\u001b[0m \u001b[32m244.3/244.3 kB\u001b[0m \u001b[31m12.8 MB/s\u001b[0m eta \u001b[36m0:00:00\u001b[0m\n",
            "\u001b[?25hDownloading python_fasthtml-0.12.16-py3-none-any.whl (66 kB)\n",
            "\u001b[2K   \u001b[90m━━━━━━━━━━━━━━━━━━━━━━━━━━━━━━━━━━━━━━━━\u001b[0m \u001b[32m66.1/66.1 kB\u001b[0m \u001b[31m3.5 MB/s\u001b[0m eta \u001b[36m0:00:00\u001b[0m\n",
            "\u001b[?25hDownloading fastcore-1.8.2-py3-none-any.whl (78 kB)\n",
            "\u001b[2K   \u001b[90m━━━━━━━━━━━━━━━━━━━━━━━━━━━━━━━━━━━━━━━━\u001b[0m \u001b[32m78.2/78.2 kB\u001b[0m \u001b[31m3.7 MB/s\u001b[0m eta \u001b[36m0:00:00\u001b[0m\n",
            "\u001b[?25hDownloading fastlite-0.1.3-py3-none-any.whl (17 kB)\n",
            "Downloading starlette-0.46.2-py3-none-any.whl (72 kB)\n",
            "\u001b[2K   \u001b[90m━━━━━━━━━━━━━━━━━━━━━━━━━━━━━━━━━━━━━━━━\u001b[0m \u001b[32m72.0/72.0 kB\u001b[0m \u001b[31m3.4 MB/s\u001b[0m eta \u001b[36m0:00:00\u001b[0m\n",
            "\u001b[?25hDownloading uvicorn-0.34.2-py3-none-any.whl (62 kB)\n",
            "\u001b[2K   \u001b[90m━━━━━━━━━━━━━━━━━━━━━━━━━━━━━━━━━━━━━━━━\u001b[0m \u001b[32m62.5/62.5 kB\u001b[0m \u001b[31m3.3 MB/s\u001b[0m eta \u001b[36m0:00:00\u001b[0m\n",
            "\u001b[?25hDownloading python_multipart-0.0.20-py3-none-any.whl (24 kB)\n",
            "Downloading apswutils-0.0.2-py3-none-any.whl (80 kB)\n",
            "\u001b[2K   \u001b[90m━━━━━━━━━━━━━━━━━━━━━━━━━━━━━━━━━━━━━━━━\u001b[0m \u001b[32m80.5/80.5 kB\u001b[0m \u001b[31m4.4 MB/s\u001b[0m eta \u001b[36m0:00:00\u001b[0m\n",
            "\u001b[?25hDownloading httptools-0.6.4-cp311-cp311-manylinux_2_5_x86_64.manylinux1_x86_64.manylinux_2_17_x86_64.manylinux2014_x86_64.whl (459 kB)\n",
            "\u001b[2K   \u001b[90m━━━━━━━━━━━━━━━━━━━━━━━━━━━━━━━━━━━━━━━━\u001b[0m \u001b[32m459.8/459.8 kB\u001b[0m \u001b[31m19.1 MB/s\u001b[0m eta \u001b[36m0:00:00\u001b[0m\n",
            "\u001b[?25hDownloading python_dotenv-1.1.0-py3-none-any.whl (20 kB)\n",
            "Downloading uvloop-0.21.0-cp311-cp311-manylinux_2_17_x86_64.manylinux2014_x86_64.whl (4.0 MB)\n",
            "\u001b[2K   \u001b[90m━━━━━━━━━━━━━━━━━━━━━━━━━━━━━━━━━━━━━━━━\u001b[0m \u001b[32m4.0/4.0 MB\u001b[0m \u001b[31m47.4 MB/s\u001b[0m eta \u001b[36m0:00:00\u001b[0m\n",
            "\u001b[?25hDownloading watchfiles-1.0.5-cp311-cp311-manylinux_2_17_x86_64.manylinux2014_x86_64.whl (454 kB)\n",
            "\u001b[2K   \u001b[90m━━━━━━━━━━━━━━━━━━━━━━━━━━━━━━━━━━━━━━━━\u001b[0m \u001b[32m454.8/454.8 kB\u001b[0m \u001b[31m22.1 MB/s\u001b[0m eta \u001b[36m0:00:00\u001b[0m\n",
            "\u001b[?25hDownloading apsw-3.49.2.0-cp311-cp311-manylinux_2_17_x86_64.manylinux2014_x86_64.whl (6.4 MB)\n",
            "\u001b[2K   \u001b[90m━━━━━━━━━━━━━━━━━━━━━━━━━━━━━━━━━━━━━━━━\u001b[0m \u001b[32m6.4/6.4 MB\u001b[0m \u001b[31m50.5 MB/s\u001b[0m eta \u001b[36m0:00:00\u001b[0m\n",
            "\u001b[?25hInstalling collected packages: uvloop, uvicorn, python-multipart, python-dotenv, python-docx, pymupdf, httptools, fastcore, apsw, watchfiles, starlette, apswutils, fastlite, python-fasthtml, hands-on-ai\n",
            "  Attempting uninstall: fastcore\n",
            "    Found existing installation: fastcore 1.7.29\n",
            "    Uninstalling fastcore-1.7.29:\n",
            "      Successfully uninstalled fastcore-1.7.29\n",
            "\u001b[31mERROR: pip's dependency resolver does not currently take into account all the packages that are installed. This behaviour is the source of the following dependency conflicts.\n",
            "fastai 2.7.19 requires fastcore<1.8,>=1.5.29, but you have fastcore 1.8.2 which is incompatible.\u001b[0m\u001b[31m\n",
            "\u001b[0mSuccessfully installed apsw-3.49.2.0 apswutils-0.0.2 fastcore-1.8.2 fastlite-0.1.3 hands-on-ai-0.1.9 httptools-0.6.4 pymupdf-1.25.5 python-docx-1.1.2 python-dotenv-1.1.0 python-fasthtml-0.12.16 python-multipart-0.0.20 starlette-0.46.2 uvicorn-0.34.2 uvloop-0.21.0 watchfiles-1.0.5\n"
          ]
        }
      ],
      "source": [
        "# 🧪 Optional packages — uncomment if needed in Colab or JupyterHub\n",
        "!pip install fetch-my-weather\n",
        "!pip install hands-on-ai\n"
      ]
    },
    {
      "cell_type": "code",
      "source": [
        "import os\n",
        "\n",
        "os.environ['HANDS_ON_AI_SERVER'] = 'http://ollama.serveur.au'\n",
        "os.environ['HANDS_ON_AI_MODEL'] = 'granite3.2'\n",
        "os.environ['HANDS_ON_AI_API_KEY'] = input('Enter your API key: ')"
      ],
      "metadata": {
        "id": "B2JKlJfrGgIb"
      },
      "id": "B2JKlJfrGgIb",
      "execution_count": null,
      "outputs": []
    },
    {
      "cell_type": "markdown",
      "id": "59ae7543",
      "metadata": {
        "id": "59ae7543"
      },
      "source": [
        "## 📦 Setup and Configuration\n",
        "Import required packages and setup environment."
      ]
    },
    {
      "cell_type": "code",
      "execution_count": null,
      "id": "f1dd051e",
      "metadata": {
        "id": "f1dd051e",
        "colab": {
          "base_uri": "https://localhost:8080/"
        },
        "outputId": "08040131-b00b-4a22-8653-fffa72132f76"
      },
      "outputs": [
        {
          "output_type": "stream",
          "name": "stdout",
          "text": [
            "Collecting pyinputplus\n",
            "  Downloading PyInputPlus-0.2.12.tar.gz (20 kB)\n",
            "  Installing build dependencies ... \u001b[?25l\u001b[?25hdone\n",
            "  Getting requirements to build wheel ... \u001b[?25l\u001b[?25hdone\n",
            "  Preparing metadata (pyproject.toml) ... \u001b[?25l\u001b[?25hdone\n",
            "Collecting pysimplevalidate>=0.2.7 (from pyinputplus)\n",
            "  Downloading PySimpleValidate-0.2.12.tar.gz (22 kB)\n",
            "  Installing build dependencies ... \u001b[?25l\u001b[?25hdone\n",
            "  Getting requirements to build wheel ... \u001b[?25l\u001b[?25hdone\n",
            "  Preparing metadata (pyproject.toml) ... \u001b[?25l\u001b[?25hdone\n",
            "Collecting stdiomask>=0.0.3 (from pyinputplus)\n",
            "  Downloading stdiomask-0.0.6.tar.gz (3.6 kB)\n",
            "  Installing build dependencies ... \u001b[?25l\u001b[?25hdone\n",
            "  Getting requirements to build wheel ... \u001b[?25l\u001b[?25hdone\n",
            "  Preparing metadata (pyproject.toml) ... \u001b[?25l\u001b[?25hdone\n",
            "Building wheels for collected packages: pyinputplus, pysimplevalidate, stdiomask\n",
            "  Building wheel for pyinputplus (pyproject.toml) ... \u001b[?25l\u001b[?25hdone\n",
            "  Created wheel for pyinputplus: filename=pyinputplus-0.2.12-py3-none-any.whl size=11349 sha256=6d511d743124066a2934b0bad9ee2129be498a5eaa04180cfbcbbb5e565dbcf1\n",
            "  Stored in directory: /root/.cache/pip/wheels/a3/6b/89/3bec14288af8e0729d088fb41a785e583d49e772f2529c7676\n",
            "  Building wheel for pysimplevalidate (pyproject.toml) ... \u001b[?25l\u001b[?25hdone\n",
            "  Created wheel for pysimplevalidate: filename=pysimplevalidate-0.2.12-py3-none-any.whl size=16224 sha256=81ec3f97634fbf939df9edca859cad836e66d6039193b4352ddd0b5600b4b99c\n",
            "  Stored in directory: /root/.cache/pip/wheels/fc/40/7a/4d3b2dc2e80b4b3bbda89eec94fcefd6c8bd1101cc7bb89554\n",
            "  Building wheel for stdiomask (pyproject.toml) ... \u001b[?25l\u001b[?25hdone\n",
            "  Created wheel for stdiomask: filename=stdiomask-0.0.6-py3-none-any.whl size=3356 sha256=e3c1514bbde71944a462ef962ee006bc654d7b70e44135339ab1437d9d43ff79\n",
            "  Stored in directory: /root/.cache/pip/wheels/19/0c/90/5ee0da7cf06ff7e233f273063797785d5eabf0ab9f04220866\n",
            "Successfully built pyinputplus pysimplevalidate stdiomask\n",
            "Installing collected packages: stdiomask, pysimplevalidate, pyinputplus\n",
            "Successfully installed pyinputplus-0.2.12 pysimplevalidate-0.2.12 stdiomask-0.0.6\n"
          ]
        }
      ],
      "source": [
        "!pip install pyinputplus\n",
        "import requests\n",
        "import matplotlib.pyplot as plt\n",
        "import pyinputplus as pyip\n",
        "# ✅ Import after installing (if needed)\n",
        "from fetch_my_weather import get_weather\n",
        "from hands_on_ai.chat import get_response\n",
        "\n"
      ]
    },
    {
      "cell_type": "markdown",
      "id": "f736ade3",
      "metadata": {
        "id": "f736ade3"
      },
      "source": [
        "## 🌤️ Weather Data Functions"
      ]
    },
    {
      "cell_type": "code",
      "execution_count": null,
      "id": "7a2c7cd0",
      "metadata": {
        "id": "7a2c7cd0",
        "colab": {
          "base_uri": "https://localhost:8080/"
        },
        "outputId": "a5601b25-9904-4c33-b284-e2e2c7f015ef"
      },
      "outputs": [
        {
          "output_type": "stream",
          "name": "stdout",
          "text": [
            "Welcome to the Weather App!\n",
            "Enter a location: paris\n",
            "\n",
            "Current weather in paris:\n",
            "Temperature: 11°C\n",
            "Condition: Partly cloudy\n",
            "Humidity: 71%\n",
            "Wind Speed: 17 km/h\n",
            "\n",
            "3-Day Forecast:\n",
            "2025-05-15: 9°C - 18°C\n",
            "2025-05-16: 8°C - 20°C\n",
            "2025-05-17: 7°C - 21°C\n"
          ]
        }
      ],
      "source": [
        "import fetch_my_weather\n",
        "\n",
        "def get_weather_data(location=\"Perth\", forecast_days=3):\n",
        "\n",
        "# Fetches the weather in given location and forecast for 3 days\n",
        "    try:\n",
        "        weather = fetch_my_weather.get_weather(location=location)\n",
        "        current = weather.current_condition[0]\n",
        "\n",
        "        current_conditions = {\n",
        "            'temperature_C': current.temp_C,\n",
        "            'condition': current.weatherDesc[0].value,\n",
        "            'humidity': current.humidity,\n",
        "            'wind_speed_kmph': current.windspeedKmph\n",
        "        }\n",
        "# Formats current weather conditions into a dictionary\n",
        "\n",
        "        forecast_data = []\n",
        "        for day in weather.weather[:forecast_days]:\n",
        "            forecast_data.append({\n",
        "                'date': day.date,  # Date of forecast\n",
        "                'min_temp_C': day.mintempC,  # Min temperature for that day\n",
        "                'max_temp_C': day.maxtempC  # Max temperature for that day\n",
        "            })\n",
        "\n",
        "# Prepare forecast data for the specified number of days\n",
        "\n",
        "        return {\n",
        "            'location': location,\n",
        "            'current': current_conditions,\n",
        "            'forecast': forecast_data\n",
        "        }\n",
        "\n",
        "# Return a dictionary with location, current conditions, and forecast\n",
        "\n",
        "\n",
        "    except Exception as e:  # Handle any errors (e.g., network issues)\n",
        "        return {\"error\": str(e)}  # Return error message\n",
        "\n",
        "\n",
        "# Start of main program\n",
        "\n",
        "print(\"Welcome to the Weather App!\")\n",
        "location = input(\"Enter a location: \")\n",
        "weather_data = get_weather_data(location)\n",
        "\n",
        "if \"error\" in weather_data:\n",
        "    print(\"Error:\", weather_data[\"error\"])\n",
        "# Check for errors in fetching data\n",
        "else:\n",
        "    print(f\"\\nCurrent weather in {weather_data['location']}:\")\n",
        "    print(f\"Temperature: {weather_data['current']['temperature_C']}°C\")\n",
        "    print(f\"Condition: {weather_data['current']['condition']}\")\n",
        "    print(f\"Humidity: {weather_data['current']['humidity']}%\")\n",
        "    print(f\"Wind Speed: {weather_data['current']['wind_speed_kmph']} km/h\")\n",
        "\n",
        "# Print weather details\n",
        "\n",
        "    print(\"\\n3-Day Forecast:\")\n",
        "    for day in weather_data['forecast']:\n",
        "        print(f\"{day['date']}: {day['min_temp_C']}°C - {day['max_temp_C']}°C\")\n",
        "\n",
        "# Print 3-day forecast"
      ]
    },
    {
      "cell_type": "markdown",
      "id": "8a744fdc",
      "metadata": {
        "id": "8a744fdc"
      },
      "source": [
        "## 📊 Visualisation Functions"
      ]
    },
    {
      "cell_type": "code",
      "execution_count": null,
      "id": "9dc3bf85",
      "metadata": {
        "id": "9dc3bf85"
      },
      "outputs": [],
      "source": [
        "# Define create_temperature_visualisation() and create_precipitation_visualisation() here\n",
        "def create_temperature_visualisation(weather_data, output_type='display'):\n",
        "    \"\"\"\n",
        "    Create visualisation of temperature data.\n",
        "\n",
        "    Args:\n",
        "        weather_data (dict): The processed weather data\n",
        "        output_type (str): Either 'display' to show in notebook or 'figure' to return the figure\n",
        "\n",
        "    Returns:\n",
        "        If output_type is 'figure', returns the matplotlib figure object\n",
        "        Otherwise, displays the visualisation in the notebook\n",
        "    \"\"\"\n",
        "    pass\n"
      ]
    },
    {
      "cell_type": "code",
      "source": [
        "\n",
        "def create_precipitation_visualisation(weather_data, output_type='display'):\n",
        "    \"\"\"\n",
        "    Create visualisation of precipitation data.\n",
        "\n",
        "    Args:\n",
        "        weather_data (dict): The processed weather data\n",
        "        output_type (str): Either 'display' to show in notebook or 'figure' to return the figure\n",
        "\n",
        "    Returns:\n",
        "        If output_type is 'figure', returns the matplotlib figure object\n",
        "        Otherwise, displays the visualisation in the notebook\n",
        "    \"\"\"\n",
        "    pass"
      ],
      "metadata": {
        "id": "HpOlQylYG5Ho"
      },
      "id": "HpOlQylYG5Ho",
      "execution_count": null,
      "outputs": []
    },
    {
      "cell_type": "markdown",
      "id": "9f95d160",
      "metadata": {
        "id": "9f95d160"
      },
      "source": [
        "## 🤖 Natural Language Processing"
      ]
    },
    {
      "cell_type": "code",
      "execution_count": null,
      "id": "bcc5833e",
      "metadata": {
        "id": "bcc5833e"
      },
      "outputs": [],
      "source": [
        "# Define parse_weather_question() and generate_weather_response() here\n",
        "def parse_weather_question(question):\n",
        "    \"\"\"\n",
        "    Parse a natural language weather question.\n",
        "\n",
        "    Args:\n",
        "        question (str): User's weather-related question\n",
        "\n",
        "    Returns:\n",
        "        dict: Extracted information including location, time period, and weather attribute\n",
        "    \"\"\"\n",
        "    pass"
      ]
    },
    {
      "cell_type": "markdown",
      "id": "0d85225e",
      "metadata": {
        "id": "0d85225e"
      },
      "source": [
        "## 🧭 User Interface"
      ]
    },
    {
      "cell_type": "code",
      "execution_count": null,
      "id": "fa6cb0f6",
      "metadata": {
        "id": "fa6cb0f6"
      },
      "outputs": [],
      "source": [
        "# Define menu functions using pyinputplus or ipywidgets here"
      ]
    },
    {
      "cell_type": "markdown",
      "id": "d643a53c",
      "metadata": {
        "id": "d643a53c"
      },
      "source": [
        "## 🧩 Main Application Logic"
      ]
    },
    {
      "cell_type": "code",
      "execution_count": null,
      "id": "a9e2e805",
      "metadata": {
        "id": "a9e2e805"
      },
      "outputs": [],
      "source": [
        "# Tie everything together here\n",
        "def generate_weather_response(parsed_question, weather_data):\n",
        "    \"\"\"\n",
        "    Generate a natural language response to a weather question.\n",
        "\n",
        "    Args:\n",
        "        parsed_question (dict): Parsed question data\n",
        "        weather_data (dict): Weather data\n",
        "\n",
        "    Returns:\n",
        "        str: Natural language response\n",
        "    \"\"\"\n",
        "    pass"
      ]
    },
    {
      "cell_type": "markdown",
      "id": "fde44479",
      "metadata": {
        "id": "fde44479"
      },
      "source": [
        "## 🧪 Testing and Examples"
      ]
    },
    {
      "cell_type": "code",
      "execution_count": null,
      "id": "4e573901",
      "metadata": {
        "id": "4e573901"
      },
      "outputs": [],
      "source": [
        "# Include sample input/output for each function"
      ]
    },
    {
      "cell_type": "markdown",
      "id": "d2885880",
      "metadata": {
        "id": "d2885880"
      },
      "source": [
        "## 🗂️ AI Prompting Log (Optional)\n",
        "Add markdown cells here summarising prompts used or link to AI conversations in the `ai-conversations/` folder."
      ]
    }
  ],
  "metadata": {
    "language_info": {
      "name": "python"
    },
    "colab": {
      "provenance": [],
      "include_colab_link": true
    },
    "kernelspec": {
      "name": "python3",
      "display_name": "Python 3"
    }
  },
  "nbformat": 4,
  "nbformat_minor": 5
}